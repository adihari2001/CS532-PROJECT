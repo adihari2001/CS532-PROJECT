{
  "nbformat": 4,
  "nbformat_minor": 0,
  "metadata": {
    "colab": {
      "provenance": []
    },
    "kernelspec": {
      "name": "python3",
      "display_name": "Python 3"
    },
    "language_info": {
      "name": "python"
    }
  },
  "cells": [
    {
      "cell_type": "code",
      "source": [
        "pip install pyspark"
      ],
      "metadata": {
        "colab": {
          "base_uri": "https://localhost:8080/"
        },
        "id": "pUy-fHAZKzUI",
        "outputId": "fbb4bb23-f459-4e07-ed61-cf96ca6c4d29"
      },
      "execution_count": 1,
      "outputs": [
        {
          "output_type": "stream",
          "name": "stdout",
          "text": [
            "Looking in indexes: https://pypi.org/simple, https://us-python.pkg.dev/colab-wheels/public/simple/\n",
            "Collecting pyspark\n",
            "  Downloading pyspark-3.4.0.tar.gz (310.8 MB)\n",
            "\u001b[2K     \u001b[90m━━━━━━━━━━━━━━━━━━━━━━━━━━━━━━━━━━━━━━━\u001b[0m \u001b[32m310.8/310.8 MB\u001b[0m \u001b[31m3.3 MB/s\u001b[0m eta \u001b[36m0:00:00\u001b[0m\n",
            "\u001b[?25h  Preparing metadata (setup.py) ... \u001b[?25l\u001b[?25hdone\n",
            "Requirement already satisfied: py4j==0.10.9.7 in /usr/local/lib/python3.9/dist-packages (from pyspark) (0.10.9.7)\n",
            "Building wheels for collected packages: pyspark\n",
            "  Building wheel for pyspark (setup.py) ... \u001b[?25l\u001b[?25hdone\n",
            "  Created wheel for pyspark: filename=pyspark-3.4.0-py2.py3-none-any.whl size=311317145 sha256=23419f7e69e4e7799843d286ddf242a8aca5f8a29c9bfab7884d7e363560f6ce\n",
            "  Stored in directory: /root/.cache/pip/wheels/9f/34/a4/159aa12d0a510d5ff7c8f0220abbea42e5d81ecf588c4fd884\n",
            "Successfully built pyspark\n",
            "Installing collected packages: pyspark\n",
            "Successfully installed pyspark-3.4.0\n"
          ]
        }
      ]
    },
    {
      "cell_type": "markdown",
      "source": [
        "# Data Extraction"
      ],
      "metadata": {
        "id": "rI6zQpNx_4j8"
      }
    },
    {
      "cell_type": "code",
      "source": [
        "from pyspark.sql import SparkSession\n",
        "\n",
        "spark = SparkSession.builder.appName(\"IMDb Reviews\").getOrCreate()\n",
        "\n",
        "# Load the IMDb movie reviews dataset into a PySpark DataFrame\n",
        "imdb_df = spark.read \\\n",
        "              .option(\"header\", True) \\\n",
        "              .option(\"inferSchema\", True) \\\n",
        "              .option(\"quote\", \"\\\"\") \\\n",
        "              .option(\"escape\", \"\\\"\") \\\n",
        "              .csv(\"/content/drive/MyDrive/IMDB Dataset.csv\")\n",
        "imdb_df.show()"
      ],
      "metadata": {
        "colab": {
          "base_uri": "https://localhost:8080/"
        },
        "id": "RZMUR92gI2wv",
        "outputId": "11096728-0cf6-492d-aad4-68b5102d8d07"
      },
      "execution_count": 21,
      "outputs": [
        {
          "output_type": "stream",
          "name": "stdout",
          "text": [
            "+--------------------+---------+\n",
            "|              review|sentiment|\n",
            "+--------------------+---------+\n",
            "|One of the other ...| positive|\n",
            "|A wonderful littl...| positive|\n",
            "|I thought this wa...| positive|\n",
            "|Basically there's...| negative|\n",
            "|Petter Mattei's \"...| positive|\n",
            "|Probably my all-t...| positive|\n",
            "|I sure would like...| positive|\n",
            "|This show was an ...| negative|\n",
            "|Encouraged by the...| negative|\n",
            "|If you like origi...| positive|\n",
            "|Phil the Alien is...| negative|\n",
            "|I saw this movie ...| negative|\n",
            "|So im not a big f...| negative|\n",
            "|The cast played S...| negative|\n",
            "|This a fantastic ...| positive|\n",
            "|Kind of drawn in ...| negative|\n",
            "|Some films just s...| positive|\n",
            "|This movie made i...| negative|\n",
            "|I remember this f...| positive|\n",
            "|An awful film! It...| negative|\n",
            "+--------------------+---------+\n",
            "only showing top 20 rows\n",
            "\n"
          ]
        }
      ]
    },
    {
      "cell_type": "markdown",
      "source": [
        "## Description of classes in the sentiment column"
      ],
      "metadata": {
        "id": "SdMovqjyBsjF"
      }
    },
    {
      "cell_type": "code",
      "source": [
        "imdb_df.select('sentiment').distinct().rdd.map(lambda r: r[0]).collect()"
      ],
      "metadata": {
        "colab": {
          "base_uri": "https://localhost:8080/"
        },
        "id": "6Y-U2gFNBluX",
        "outputId": "91b9ce31-b23f-4a9e-da2a-a09a4ce63c60"
      },
      "execution_count": 22,
      "outputs": [
        {
          "output_type": "execute_result",
          "data": {
            "text/plain": [
              "['positive', 'negative']"
            ]
          },
          "metadata": {},
          "execution_count": 22
        }
      ]
    },
    {
      "cell_type": "markdown",
      "source": [
        "## Number of reviews in each class"
      ],
      "metadata": {
        "id": "6rDvnqKnB5LK"
      }
    },
    {
      "cell_type": "code",
      "source": [
        "imdb_df.groupBy('sentiment').count().orderBy('count').show()"
      ],
      "metadata": {
        "colab": {
          "base_uri": "https://localhost:8080/"
        },
        "id": "5XWQzmpnB5me",
        "outputId": "a0051493-afdf-45c7-e14b-694b36cf024c"
      },
      "execution_count": 23,
      "outputs": [
        {
          "output_type": "stream",
          "name": "stdout",
          "text": [
            "+---------+-----+\n",
            "|sentiment|count|\n",
            "+---------+-----+\n",
            "| positive|25000|\n",
            "| negative|25000|\n",
            "+---------+-----+\n",
            "\n"
          ]
        }
      ]
    },
    {
      "cell_type": "markdown",
      "source": [
        "# Data Preprocessing"
      ],
      "metadata": {
        "id": "4xtOJDjk_66N"
      }
    },
    {
      "cell_type": "markdown",
      "source": [
        "## Data Cleaning"
      ],
      "metadata": {
        "id": "0oYhi-LLAS2d"
      }
    },
    {
      "cell_type": "code",
      "source": [
        "from pyspark.sql.functions import lower, regexp_replace\n",
        "from pyspark.ml.feature import StopWordsRemover\n",
        "from pyspark.ml.feature import RegexTokenizer\n",
        "from pyspark.ml.feature import CountVectorizer\n",
        "\n",
        "# Remove HTML tags, punctuation, and special characters from the text\n",
        "imdb_df = imdb_df.withColumn(\"preprocessed_review\", regexp_replace(imdb_df[\"review\"], '<.*?>', ''))\n",
        "imdb_df = imdb_df.withColumn(\"preprocessed_review\", regexp_replace(imdb_df[\"preprocessed_review\"], '[^\\w\\s]+', ''))\n",
        "imdb_df = imdb_df.withColumn(\"preprocessed_review\", regexp_replace(imdb_df[\"preprocessed_review\"], '[^A-Za-z0-9 ]+', ''))"
      ],
      "metadata": {
        "id": "ndaw5xkTKPkF"
      },
      "execution_count": 24,
      "outputs": []
    },
    {
      "cell_type": "code",
      "source": [
        "imdb_df.show()"
      ],
      "metadata": {
        "colab": {
          "base_uri": "https://localhost:8080/"
        },
        "id": "A_XpIcFbAu-N",
        "outputId": "f9bde128-f24d-409a-fdc5-99e9b9565060"
      },
      "execution_count": 25,
      "outputs": [
        {
          "output_type": "stream",
          "name": "stdout",
          "text": [
            "+--------------------+---------+--------------------+\n",
            "|              review|sentiment| preprocessed_review|\n",
            "+--------------------+---------+--------------------+\n",
            "|One of the other ...| positive|One of the other ...|\n",
            "|A wonderful littl...| positive|A wonderful littl...|\n",
            "|I thought this wa...| positive|I thought this wa...|\n",
            "|Basically there's...| negative|Basically theres ...|\n",
            "|Petter Mattei's \"...| positive|Petter Matteis Lo...|\n",
            "|Probably my all-t...| positive|Probably my allti...|\n",
            "|I sure would like...| positive|I sure would like...|\n",
            "|This show was an ...| negative|This show was an ...|\n",
            "|Encouraged by the...| negative|Encouraged by the...|\n",
            "|If you like origi...| positive|If you like origi...|\n",
            "|Phil the Alien is...| negative|Phil the Alien is...|\n",
            "|I saw this movie ...| negative|I saw this movie ...|\n",
            "|So im not a big f...| negative|So im not a big f...|\n",
            "|The cast played S...| negative|The cast played S...|\n",
            "|This a fantastic ...| positive|This a fantastic ...|\n",
            "|Kind of drawn in ...| negative|Kind of drawn in ...|\n",
            "|Some films just s...| positive|Some films just s...|\n",
            "|This movie made i...| negative|This movie made i...|\n",
            "|I remember this f...| positive|I remember this f...|\n",
            "|An awful film! It...| negative|An awful film It ...|\n",
            "+--------------------+---------+--------------------+\n",
            "only showing top 20 rows\n",
            "\n"
          ]
        }
      ]
    },
    {
      "cell_type": "markdown",
      "source": [
        "## Data Transformation"
      ],
      "metadata": {
        "id": "cD_lZ02cAfVK"
      }
    },
    {
      "cell_type": "markdown",
      "source": [
        "### Conversion of text to lowercase"
      ],
      "metadata": {
        "id": "l9UsqSiWANSv"
      }
    },
    {
      "cell_type": "code",
      "source": [
        "# Convert all text to lowercase\n",
        "imdb_df = imdb_df.withColumn(\"preprocessed_review\", lower(imdb_df[\"preprocessed_review\"]))"
      ],
      "metadata": {
        "id": "P90VbkQz_qhh"
      },
      "execution_count": 26,
      "outputs": []
    },
    {
      "cell_type": "markdown",
      "source": [
        "### Toeknization of text into words"
      ],
      "metadata": {
        "id": "oLQ-v1dPAh5v"
      }
    },
    {
      "cell_type": "code",
      "source": [
        "# Tokenize the text into words\n",
        "tokenizer = RegexTokenizer(inputCol=\"preprocessed_review\", outputCol=\"words\", pattern=\"\\\\W\")\n",
        "words_df = tokenizer.transform(imdb_df)"
      ],
      "metadata": {
        "id": "UHYFG-p7_ryx"
      },
      "execution_count": 27,
      "outputs": []
    },
    {
      "cell_type": "markdown",
      "source": [
        "### Removal of stop words from the text"
      ],
      "metadata": {
        "id": "RAWeWndZAkN7"
      }
    },
    {
      "cell_type": "code",
      "source": [
        "# Remove stop words from the text\n",
        "stop_words = StopWordsRemover(inputCol=\"words\", outputCol=\"text_no_stop_words\").transform(words_df)"
      ],
      "metadata": {
        "id": "q0wUYIhF_uLF"
      },
      "execution_count": 28,
      "outputs": []
    },
    {
      "cell_type": "markdown",
      "source": [
        "### Conversion of words into numeric vectors"
      ],
      "metadata": {
        "id": "dBQR2l8UAma0"
      }
    },
    {
      "cell_type": "code",
      "source": [
        "# Convert the words into a numeric vector\n",
        "vectorizer = CountVectorizer(inputCol=\"words\", outputCol=\"features\")\n",
        "features_df = vectorizer.fit(words_df).transform(words_df)\n"
      ],
      "metadata": {
        "id": "qYPMB8YyKaZl"
      },
      "execution_count": 29,
      "outputs": []
    },
    {
      "cell_type": "code",
      "source": [
        "features_df.show()"
      ],
      "metadata": {
        "colab": {
          "base_uri": "https://localhost:8080/"
        },
        "id": "3whBVHfKAwkS",
        "outputId": "1d6393a2-d840-4eb5-d97b-8e559f976da0"
      },
      "execution_count": 30,
      "outputs": [
        {
          "output_type": "stream",
          "name": "stdout",
          "text": [
            "+--------------------+---------+--------------------+--------------------+--------------------+\n",
            "|              review|sentiment| preprocessed_review|               words|            features|\n",
            "+--------------------+---------+--------------------+--------------------+--------------------+\n",
            "|One of the other ...| positive|one of the other ...|[one, of, the, ot...|(221897,[0,1,2,3,...|\n",
            "|A wonderful littl...| positive|a wonderful littl...|[a, wonderful, li...|(221897,[0,1,2,3,...|\n",
            "|I thought this wa...| positive|i thought this wa...|[i, thought, this...|(221897,[0,1,2,3,...|\n",
            "|Basically there's...| negative|basically theres ...|[basically, there...|(221897,[0,1,2,3,...|\n",
            "|Petter Mattei's \"...| positive|petter matteis lo...|[petter, matteis,...|(221897,[0,1,2,3,...|\n",
            "|Probably my all-t...| positive|probably my allti...|[probably, my, al...|(221897,[0,1,2,3,...|\n",
            "|I sure would like...| positive|i sure would like...|[i, sure, would, ...|(221897,[0,1,2,3,...|\n",
            "|This show was an ...| negative|this show was an ...|[this, show, was,...|(221897,[0,1,2,3,...|\n",
            "|Encouraged by the...| negative|encouraged by the...|[encouraged, by, ...|(221897,[0,1,2,3,...|\n",
            "|If you like origi...| positive|if you like origi...|[if, you, like, o...|(221897,[9,15,20,...|\n",
            "|Phil the Alien is...| negative|phil the alien is...|[phil, the, alien...|(221897,[0,1,2,3,...|\n",
            "|I saw this movie ...| negative|i saw this movie ...|[i, saw, this, mo...|(221897,[0,1,2,3,...|\n",
            "|So im not a big f...| negative|so im not a big f...|[so, im, not, a, ...|(221897,[0,1,2,3,...|\n",
            "|The cast played S...| negative|the cast played s...|[the, cast, playe...|(221897,[0,1,2,3,...|\n",
            "|This a fantastic ...| positive|this a fantastic ...|[this, a, fantast...|(221897,[0,1,2,3,...|\n",
            "|Kind of drawn in ...| negative|kind of drawn in ...|[kind, of, drawn,...|(221897,[0,1,2,3,...|\n",
            "|Some films just s...| positive|some films just s...|[some, films, jus...|(221897,[0,1,2,3,...|\n",
            "|This movie made i...| negative|this movie made i...|[this, movie, mad...|(221897,[0,1,2,3,...|\n",
            "|I remember this f...| positive|i remember this f...|[i, remember, thi...|(221897,[0,1,2,3,...|\n",
            "|An awful film! It...| negative|an awful film it ...|[an, awful, film,...|(221897,[0,1,2,3,...|\n",
            "+--------------------+---------+--------------------+--------------------+--------------------+\n",
            "only showing top 20 rows\n",
            "\n"
          ]
        }
      ]
    },
    {
      "cell_type": "markdown",
      "source": [
        "# Data Splitting into training and test set"
      ],
      "metadata": {
        "id": "nU2U0PnpAKhY"
      }
    },
    {
      "cell_type": "code",
      "source": [
        "# Split the dataset into training and test sets\n",
        "train_df, test_df = features_df.randomSplit([0.8, 0.2], seed=42)"
      ],
      "metadata": {
        "id": "lLAVK_j4KetX"
      },
      "execution_count": 32,
      "outputs": []
    },
    {
      "cell_type": "markdown",
      "source": [
        "## Training Dataset"
      ],
      "metadata": {
        "id": "492Bk6RMDYEh"
      }
    },
    {
      "cell_type": "code",
      "source": [
        "train_df.show()"
      ],
      "metadata": {
        "colab": {
          "base_uri": "https://localhost:8080/"
        },
        "id": "QPITe5lSDXYR",
        "outputId": "ae69e3eb-0d86-4ec4-aa66-750ab2bcab3d"
      },
      "execution_count": 34,
      "outputs": [
        {
          "output_type": "stream",
          "name": "stdout",
          "text": [
            "+--------------------+---------+--------------------+--------------------+--------------------+\n",
            "|              review|sentiment| preprocessed_review|               words|            features|\n",
            "+--------------------+---------+--------------------+--------------------+--------------------+\n",
            "|\\b\\b\\b\\bA Turkish...| positive|a turkish bath se...|[a, turkish, bath...|(221897,[0,1,2,3,...|\n",
            "|!!!! MILD SPOILER...| negative| mild spoilers th...|[mild, spoilers, ...|(221897,[0,1,2,3,...|\n",
            "|!!!! POSSIBLE MIL...| negative| possible mild sp...|[possible, mild, ...|(221897,[0,1,2,3,...|\n",
            "|\" Now in India's ...| positive| now in indias su...|[now, in, indias,...|(221897,[0,1,2,3,...|\n",
            "|\" Så som i himmel...| positive| s som i himmelen...|[s, som, i, himme...|(221897,[0,1,2,3,...|\n",
            "|\"... the beat is ...| positive| the beat is too ...|[the, beat, is, t...|(221897,[0,1,2,3,...|\n",
            "|\"200l: A Space Od...| positive|200l a space odys...|[200l, a, space, ...|(221897,[0,1,2,3,...|\n",
            "|\"8 SIMPLE RULES.....| positive|8 simple rules fo...|[8, simple, rules...|(221897,[0,1,2,3,...|\n",
            "|\"9/11,\" hosted by...| positive|911 hosted by rob...|[911, hosted, by,...|(221897,[0,1,2,4,...|\n",
            "|\"A Cry in the Dar...| positive|a cry in the dark...|[a, cry, in, the,...|(221897,[0,1,2,3,...|\n",
            "|\"A Guy Thing\" may...| positive|a guy thing may n...|[a, guy, thing, m...|(221897,[0,1,2,3,...|\n",
            "|\"A Minute to Pray...| positive|a minute to pray ...|[a, minute, to, p...|(221897,[0,1,2,3,...|\n",
            "|\"A Mouse in the H...| positive|a mouse in the ho...|[a, mouse, in, th...|(221897,[0,1,2,3,...|\n",
            "|\"A Slight Case of...| positive|a slight case of ...|[a, slight, case,...|(221897,[0,1,2,3,...|\n",
            "|\"A Tale of Two Si...| positive|a tale of two sis...|[a, tale, of, two...|(221897,[0,1,2,3,...|\n",
            "|\"A bored televisi...| negative|a bored televisio...|[a, bored, televi...|(221897,[0,1,2,3,...|\n",
            "|\"A death at a col...| negative|a death at a coll...|[a, death, at, a,...|(221897,[0,1,2,3,...|\n",
            "|\"A lot of the fil...| negative|a lot of the film...|[a, lot, of, the,...|(221897,[0,1,2,3,...|\n",
            "|\"A total waste of...| negative|a total waste of ...|[a, total, waste,...|(221897,[0,1,2,3,...|\n",
            "|\"A trio of treasu...| negative|a trio of treasur...|[a, trio, of, tre...|(221897,[0,1,2,3,...|\n",
            "+--------------------+---------+--------------------+--------------------+--------------------+\n",
            "only showing top 20 rows\n",
            "\n"
          ]
        }
      ]
    },
    {
      "cell_type": "markdown",
      "source": [
        "## Testing Dataset"
      ],
      "metadata": {
        "id": "SH6mk3njDbAS"
      }
    },
    {
      "cell_type": "code",
      "source": [
        "test_df.show()"
      ],
      "metadata": {
        "colab": {
          "base_uri": "https://localhost:8080/"
        },
        "id": "VeHCbL7sDc4W",
        "outputId": "82e1c9d2-f354-42ad-98c9-c84eead24f92"
      },
      "execution_count": 35,
      "outputs": [
        {
          "output_type": "stream",
          "name": "stdout",
          "text": [
            "+--------------------+---------+--------------------+--------------------+--------------------+\n",
            "|              review|sentiment| preprocessed_review|               words|            features|\n",
            "+--------------------+---------+--------------------+--------------------+--------------------+\n",
            "|!!!! MILD SPOILER...| negative| mild spoilers wi...|[mild, spoilers, ...|(221897,[0,1,2,3,...|\n",
            "|\" While sporadica...| negative| while sporadical...|[while, sporadica...|(221897,[0,1,2,3,...|\n",
            "|\"2001: A Space Od...| positive|2001 a space odys...|[2001, a, space, ...|(221897,[0,1,2,3,...|\n",
            "|\"A Gentleman's Ga...| negative|a gentlemans game...|[a, gentlemans, g...|(221897,[0,1,2,3,...|\n",
            "|\"A Thief in the N...| positive|a thief in the ni...|[a, thief, in, th...|(221897,[0,1,2,3,...|\n",
            "|\"A research scien...| negative|a research scient...|[a, research, sci...|(221897,[0,1,2,3,...|\n",
            "|\"A young woman un...| negative|a young woman unw...|[a, young, woman,...|(221897,[0,1,2,3,...|\n",
            "|\"All men are guil...| positive|all men are guilt...|[all, men, are, g...|(221897,[0,1,2,3,...|\n",
            "|\"At the Earth's C...| negative|at the earths cor...|[at, the, earths,...|(221897,[0,1,2,3,...|\n",
            "|\"Atlantis\" is a n...| positive|atlantis is a new...|[atlantis, is, a,...|(221897,[0,1,2,3,...|\n",
            "|\"Autumn Spring\" t...| positive|autumn spring tel...|[autumn, spring, ...|(221897,[0,1,2,3,...|\n",
            "|\"Back in the Day\"...| positive|back in the day i...|[back, in, the, d...|(221897,[0,1,2,3,...|\n",
            "|\"Balance of Terro...| positive|balance of terror...|[balance, of, ter...|(221897,[0,1,2,3,...|\n",
            "|\"Bela Lugosi reve...| negative|bela lugosi revel...|[bela, lugosi, re...|(221897,[0,1,2,3,...|\n",
            "|\"Black Dragons\" i...| negative|black dragons is ...|[black, dragons, ...|(221897,[0,1,2,3,...|\n",
            "|\"Broadcast News\" ...| positive|broadcast news is...|[broadcast, news,...|(221897,[0,1,2,3,...|\n",
            "|\"Cat In The Brain...| positive|cat in the brain ...|[cat, in, the, br...|(221897,[0,1,2,3,...|\n",
            "|\"Cry Freedom\" is ...| positive|cry freedom is no...|[cry, freedom, is...|(221897,[0,1,2,3,...|\n",
            "|\"Death Lends A Ha...| positive|death lends a han...|[death, lends, a,...|(221897,[0,1,2,3,...|\n",
            "|\"Death Wish 3\" is...| negative|death wish 3 is t...|[death, wish, 3, ...|(221897,[0,1,2,3,...|\n",
            "+--------------------+---------+--------------------+--------------------+--------------------+\n",
            "only showing top 20 rows\n",
            "\n"
          ]
        }
      ]
    }
  ]
}